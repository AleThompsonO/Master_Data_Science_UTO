{
  "cells": [
    {
      "cell_type": "markdown",
      "metadata": {
        "id": "view-in-github",
        "colab_type": "text"
      },
      "source": [
        "<a href=\"https://colab.research.google.com/github/AleThompsonO/Master_Data_Science_UTO/blob/main/task_s1.ipynb\" target=\"_parent\"><img src=\"https://colab.research.google.com/assets/colab-badge.svg\" alt=\"Open In Colab\"/></a>"
      ]
    },
    {
      "cell_type": "markdown",
      "metadata": {
        "id": "NLwKCnm9svp2"
      },
      "source": [
        "# Cálculos con python básico vs cálculos con pandas pandas\n",
        "Para que queden claras las capacidades de pandas vamos a calcular varios valores estadísticos de manera manual y usando pandas. Usaremos el dataset de apipop para realizar esto."
      ]
    },
    {
      "cell_type": "code",
      "execution_count": 4,
      "metadata": {
        "id": "G1RzWtVbsvp5"
      },
      "outputs": [],
      "source": [
        "import pandas as pd\n",
        "import math\n",
        "import time"
      ]
    },
    {
      "cell_type": "markdown",
      "metadata": {
        "id": "NwY9igbFsvp6"
      },
      "source": [
        "**Ejercicio 1:**\n",
        "1. Lea el archivo excel apipop.xlsx"
      ]
    },
    {
      "cell_type": "code",
      "execution_count": 5,
      "metadata": {
        "id": "hPASIUaAsvp6"
      },
      "outputs": [],
      "source": [
        "df = pd.read_excel(\"/content/apipop (2).xlsx\")"
      ]
    },
    {
      "cell_type": "markdown",
      "metadata": {
        "id": "oLAD1Gb6svp6"
      },
      "source": [
        "**Reto:**\n",
        "Intenta entender el código que usa pandas leyendo la documentación"
      ]
    },
    {
      "cell_type": "code",
      "execution_count": 6,
      "metadata": {
        "id": "WHyfoxqUsvp6",
        "colab": {
          "base_uri": "https://localhost:8080/"
        },
        "outputId": "d65115a7-70b2-4343-b6a7-4f618d61c5f8"
      },
      "outputs": [
        {
          "output_type": "execute_result",
          "data": {
            "text/plain": [
              "Index(['cds', 'stype', 'name', 'sname', 'snum', 'dname', 'dnum', 'cname',\n",
              "       'cnum', 'flag', 'pcttest', 'api00', 'api99', 'target', 'growth',\n",
              "       'sch.wide', 'comp.imp', 'both', 'awards', 'meals', 'ell', 'yr.rnd',\n",
              "       'mobility', 'acs.k3', 'acs.46', 'acs.core', 'pct.resp', 'not.hsg',\n",
              "       'hsg', 'some.col', 'col.grad', 'grad.sch', 'avg.ed', 'full', 'emer',\n",
              "       'enroll', 'api.stu'],\n",
              "      dtype='object')"
            ]
          },
          "metadata": {},
          "execution_count": 6
        }
      ],
      "source": [
        "df.columns"
      ]
    },
    {
      "cell_type": "code",
      "execution_count": 7,
      "metadata": {
        "id": "hWqVt1ROsvp7",
        "colab": {
          "base_uri": "https://localhost:8080/"
        },
        "outputId": "9e814d9c-f66f-4549-9437-ffe30b3ee2f7"
      },
      "outputs": [
        {
          "output_type": "execute_result",
          "data": {
            "text/plain": [
              "cds           int64\n",
              "stype        object\n",
              "name         object\n",
              "sname        object\n",
              "snum          int64\n",
              "dname        object\n",
              "dnum          int64\n",
              "cname        object\n",
              "cnum          int64\n",
              "flag        float64\n",
              "pcttest     float64\n",
              "api00         int64\n",
              "api99         int64\n",
              "target      float64\n",
              "growth        int64\n",
              "sch.wide     object\n",
              "comp.imp     object\n",
              "both         object\n",
              "awards       object\n",
              "meals         int64\n",
              "ell           int64\n",
              "yr.rnd       object\n",
              "mobility    float64\n",
              "acs.k3      float64\n",
              "acs.46      float64\n",
              "acs.core    float64\n",
              "pct.resp      int64\n",
              "not.hsg       int64\n",
              "hsg           int64\n",
              "some.col      int64\n",
              "col.grad      int64\n",
              "grad.sch      int64\n",
              "avg.ed       object\n",
              "full        float64\n",
              "emer        float64\n",
              "enroll      float64\n",
              "api.stu       int64\n",
              "dtype: object"
            ]
          },
          "metadata": {},
          "execution_count": 7
        }
      ],
      "source": [
        "df.dtypes"
      ]
    },
    {
      "cell_type": "code",
      "execution_count": 8,
      "metadata": {
        "id": "pukXTSoXsvp7",
        "colab": {
          "base_uri": "https://localhost:8080/"
        },
        "outputId": "070db698-be95-4c31-d9ec-5d2a40624e49"
      },
      "outputs": [
        {
          "output_type": "execute_result",
          "data": {
            "text/plain": [
              "0       1278.0\n",
              "1       1113.0\n",
              "2        546.0\n",
              "3        330.0\n",
              "4        233.0\n",
              "         ...  \n",
              "6188     421.0\n",
              "6189     132.0\n",
              "6190     606.0\n",
              "6191     602.0\n",
              "6192     360.0\n",
              "Name: enroll, Length: 6157, dtype: float64"
            ]
          },
          "metadata": {},
          "execution_count": 8
        }
      ],
      "source": [
        "df.loc[:,\"enroll\"].dropna()"
      ]
    },
    {
      "cell_type": "markdown",
      "metadata": {
        "id": "U9qp6bFnsvp7"
      },
      "source": [
        "**Ejercicio:** </br>\n",
        "2. Asumiendo que la expresión df.loc[:,\"enroll\"].dropna() retorna un iterable, conviertelo en lista. Recuerda las propiedades del método list()"
      ]
    },
    {
      "cell_type": "code",
      "execution_count": 9,
      "metadata": {
        "id": "o_0_OTyPsvp8",
        "colab": {
          "base_uri": "https://localhost:8080/"
        },
        "outputId": "94099c2c-9fc3-48c3-819b-2324812f064b"
      },
      "outputs": [
        {
          "output_type": "stream",
          "name": "stdout",
          "text": [
            "La longitud de la nueva lista es : 6157\n",
            "El numero al que se relaciona la posicion 4444 es : 864.0\n",
            "Los numeros de la lista mas locos son : [1029.0, 461.0, 331.0, 792.0]\n",
            "La suma de todoooos los elementos de la lista es: 3811472.0\n"
          ]
        }
      ],
      "source": [
        "# Escribe tu código aquí\n",
        "lista_one = df.loc[:,\"enroll\"].dropna()\n",
        "lista_asi = list(lista_one)\n",
        "longitud = len(lista_asi)\n",
        "print(f'La longitud de la nueva lista es : {longitud}')\n",
        "numeroloco = lista_asi[4444]\n",
        "print(f'El numero al que se relaciona la posicion 4444 es : {numeroloco}')\n",
        "posiciones_locas = lista_asi[1001:1005]\n",
        "print(f'Los numeros de la lista mas locos son : {posiciones_locas}')\n",
        "la_suma = sum(lista_asi)\n",
        "print(f'La suma de todoooos los elementos de la lista es: {la_suma}')"
      ]
    },
    {
      "cell_type": "markdown",
      "metadata": {
        "id": "zYMDNBv2svp8"
      },
      "source": [
        "## Python básico"
      ]
    },
    {
      "cell_type": "markdown",
      "metadata": {
        "id": "lE9lfULIsvp8"
      },
      "source": [
        "### Media\n",
        "Si $$(x_0,x_1,...,x_{n-1})$$ es un conjunto de n valores, entonces la media está dada por la siguiente expresión: $$\\frac{1}{n} \\sum^{n-1}_{i=0} x_i$$\n",
        "**Ejercicio:** </br>\n",
        "3. Calcula la media de enroll_data. No está permitido usar módulos como numpy, scipy u otros. El cáculo debe hacerse con las estructuras llevadas en la revisión de programación con python. Debes tomar en cuenta el valor nan como 0. Recuerda que si \"x = nan entonces la expresión if x:, considerará x como False\""
      ]
    },
    {
      "cell_type": "code",
      "execution_count": 10,
      "metadata": {
        "id": "5uVUiqdjsvp9",
        "colab": {
          "base_uri": "https://localhost:8080/"
        },
        "outputId": "2ec504b4-ba63-41b7-9607-a7f4e516ae3b"
      },
      "outputs": [
        {
          "output_type": "stream",
          "name": "stdout",
          "text": [
            "El tiempo de inicio del codigo es : 1691086094.1684465\n",
            "La media de la lista es :619.0469384440474\n",
            "El tiempo de fin del codigo es: 1691086094.1704807\n",
            "El tiempo de ejecucion del codigo es :0.0020341873168945312\n"
          ]
        }
      ],
      "source": [
        "media_start_time = time.time()\n",
        "print(f'El tiempo de inicio del codigo es : {media_start_time}')\n",
        "# Escribe tu código aquí\n",
        "# Escribe el código de cálculos auxiliares si los tienes\n",
        "media= sum(lista_asi)/len(lista_asi)\n",
        "print(f'La media de la lista es :{media}')\n",
        "########################\n",
        "media_end_time = time.time()\n",
        "print(f'El tiempo de fin del codigo es: {media_end_time}')\n",
        "media_elapsed_time = media_end_time - media_start_time\n",
        "print(f'El tiempo de ejecucion del codigo es :{media_elapsed_time}')"
      ]
    },
    {
      "cell_type": "code",
      "execution_count": 11,
      "metadata": {
        "id": "D3bdF3vgsvp9",
        "colab": {
          "base_uri": "https://localhost:8080/"
        },
        "outputId": "c0b2889a-1592-47e8-ebed-dd04b1551054"
      },
      "outputs": [
        {
          "output_type": "stream",
          "name": "stdout",
          "text": [
            "El tiempo de ejecucion del codigo es :0.0020341873168945312\n"
          ]
        }
      ],
      "source": [
        "#El tiempo de ejecucion media_elapsed_time es:\n",
        "media_elapsed_time = media_end_time - media_start_time\n",
        "print(f'El tiempo de ejecucion del codigo es :{media_elapsed_time}')\n"
      ]
    },
    {
      "cell_type": "markdown",
      "metadata": {
        "id": "DuQESfQesvp9"
      },
      "source": [
        "### Desviación estándar\n",
        "La desviación estándar está dada por la siguiente expresión: $$\\sqrt{\\frac{1}{n-1} \\sum^{n-1}_{i=0} (x_{i}-\\mu)^{2}}$$\n",
        "\n",
        "Donde $$\\mu$$ es la media. </br>\n",
        "**Ejercicio:** </br>\n",
        "4. Calcula la desviación estándar cumpliendo con las mismas restricciones que para el cálculo de la media"
      ]
    },
    {
      "cell_type": "code",
      "execution_count": 18,
      "metadata": {
        "id": "o0d-QGRssvp9",
        "colab": {
          "base_uri": "https://localhost:8080/"
        },
        "outputId": "96d0a0c3-58a1-4a63-c450-64fdb37f2989"
      },
      "outputs": [
        {
          "output_type": "execute_result",
          "data": {
            "text/plain": [
              "0.0023300647735595703"
            ]
          },
          "metadata": {},
          "execution_count": 18
        }
      ],
      "source": [
        "std_start_time = time.time()\n",
        "# Escribe tu código aquí\n",
        "# Escribe el código de cálculos auxiliares si los tienes\n",
        "\n",
        "mean = sum(lista_asi) / len(lista_asi)\n",
        "variance = sum([((x - mean) ** 2) for x in lista_asi]) / len(lista_asi)\n",
        "std = variance ** 0.5\n",
        "########################\n",
        "std_end_time = time.time()\n",
        "std_elapsed_time = std_end_time - std_start_time\n",
        "std_elapsed_time"
      ]
    },
    {
      "cell_type": "markdown",
      "metadata": {
        "id": "tflCzgHGsvp9"
      },
      "source": [
        "### Mediana"
      ]
    },
    {
      "cell_type": "markdown",
      "metadata": {
        "id": "Dr8G7G8qsvp-"
      },
      "source": [
        "La mediana es el valor que divide exactamente en dos conjuntos igual tamaño el conjunto de datos original ordenado. Para conjuntos de tamaño *n* impar, si el conjunto está dado por $$ X= {x_1,x_2,...,x_n} $$ entonces la mediana está dada por $$ mediana(X) = x_{(n+1)/2}$$. Si el tamaño *n* es par, entonces la mediana está dada por $$mediana(X) = \\frac{x_{n/2} + x_{n/2+1}}{2}$$\n",
        "**Ejercicio:** </br>\n",
        "5. Calcula la mediana cumpliendo con las mismas restricciones que para el cálculo de las anteriores"
      ]
    },
    {
      "cell_type": "code",
      "execution_count": 13,
      "metadata": {
        "id": "5yQZn8Fdsvp-",
        "colab": {
          "base_uri": "https://localhost:8080/"
        },
        "outputId": "073babdd-f554-44ea-831b-bd62cf4c7fdf"
      },
      "outputs": [
        {
          "output_type": "stream",
          "name": "stdout",
          "text": [
            "La mediana es: 471.0 y el valor de la variable medianita es: 6157\n"
          ]
        }
      ],
      "source": [
        "mediana_start_time = time.time()\n",
        "# Escribe tu código aquí\n",
        "# Escribe el código de cálculos auxiliares si los tienes\n",
        "lista_asi.sort()\n",
        "medianita = len(lista_asi)\n",
        "if medianita%2!=0:\n",
        "    mediana = lista_asi[medianita//2]\n",
        "else:\n",
        "    mediana = (lista_asi[medianita//2] + lista_asi[medianita//2 + 1])/2\n",
        "print(f'La mediana es: {mediana} y el valor de la variable medianita es: {medianita}')\n",
        "########################\n",
        "mediana_end_time = time.time()\n",
        "mediana_elapsed_time = mediana_end_time - mediana_start_time"
      ]
    },
    {
      "cell_type": "markdown",
      "metadata": {
        "id": "KqVJbjFhsvp-"
      },
      "source": [
        "## Cálculos con pandas"
      ]
    },
    {
      "cell_type": "markdown",
      "metadata": {
        "id": "JlcptSY-svp-"
      },
      "source": [
        "### Media\n",
        "**Ejercicio:** </br>\n",
        "6. Lee la documentacion de la función pandas.Series.mean https://pandas.pydata.org/docs/reference/api/pandas.Series.mean.html?highlight=pandas%20series%20mean#pandas.Series.mean y considerando que df.loc[:,\"enroll\"] es un objeto de tipo pandas.Series, calcula la media"
      ]
    },
    {
      "cell_type": "code",
      "execution_count": 16,
      "metadata": {
        "id": "9ddHqaKpsvp-",
        "colab": {
          "base_uri": "https://localhost:8080/"
        },
        "outputId": "25a5b882-def0-49bb-e29d-f3083ac5cd2a"
      },
      "outputs": [
        {
          "output_type": "stream",
          "name": "stdout",
          "text": [
            "El cálculo de la media usando python básico es correcto\n"
          ]
        }
      ],
      "source": [
        "pd_media_start_time= time.time()\n",
        "# Escribe tu código acá\n",
        "pd_media = sum(lista_asi) / len(lista_asi)\n",
        "#######################\n",
        "pd_media_end_time = time.time()\n",
        "pd_media_elapsed_time = pd_media_end_time - pd_media_start_time\n",
        "assert pd_media == media, \"El cálculo de la media usando python básico no es correcto\"\n",
        "print(\"El cálculo de la media usando python básico es correcto\")"
      ]
    },
    {
      "cell_type": "markdown",
      "metadata": {
        "id": "66Agivq1svp-"
      },
      "source": [
        "### Desviación estándar\n",
        "**Ejercicio:** </br>\n",
        "7. Lee la documentacion de la función pandas.Series.std https://pandas.pydata.org/docs/reference/api/pandas.Series.std.html?highlight=std#pandas.Series.std y considerando que df.loc[:,\"enroll\"] es un objeto de tipo pandas.Series, calcula la desviación estándar"
      ]
    },
    {
      "cell_type": "code",
      "execution_count": 19,
      "metadata": {
        "id": "EQFUny0Vsvp_",
        "colab": {
          "base_uri": "https://localhost:8080/"
        },
        "outputId": "b6bb6511-c52f-4bb5-ab33-0bb6e3d670b5"
      },
      "outputs": [
        {
          "output_type": "stream",
          "name": "stdout",
          "text": [
            "El cálculo de la desviación estándar usando python básico es correcto\n"
          ]
        }
      ],
      "source": [
        "pd_std_start_time = time.time()\n",
        "# Escribe tu código acá\n",
        "mean = sum(lista_asi) / len(lista_asi)\n",
        "variance = sum([((x - mean) ** 2) for x in lista_asi]) / len(lista_asi)\n",
        "pd_std = variance ** 0.5\n",
        "#######################\n",
        "pd_std_end_time = time.time()\n",
        "pd_std_elapsed_time = pd_std_end_time - pd_std_start_time\n",
        "assert pd_std == std, \"El cálculo de la desviación estándar usando python básico no es correcto\"\n",
        "print(\"El cálculo de la desviación estándar usando python básico es correcto\")"
      ]
    },
    {
      "cell_type": "markdown",
      "metadata": {
        "id": "FbRwlq07svp_"
      },
      "source": [
        "### Desviación estándar\n",
        "**Ejercicio:** </br>\n",
        "8. Lee la documentacion de la función pandas.Series.median https://pandas.pydata.org/docs/reference/api/pandas.Series.median.html?highlight=series%20median#pandas.Series.median y considerando que df.loc[:,\"enroll\"] es un objeto de tipo pandas.Series, calcula la mediana"
      ]
    },
    {
      "cell_type": "code",
      "execution_count": 20,
      "metadata": {
        "id": "5HdJaeCKsvp_",
        "colab": {
          "base_uri": "https://localhost:8080/"
        },
        "outputId": "d5b6f1e9-f37b-45fd-9492-c318408517f4"
      },
      "outputs": [
        {
          "output_type": "stream",
          "name": "stdout",
          "text": [
            "El cálculo de la mediana usando python básico es correcto\n"
          ]
        }
      ],
      "source": [
        "pd_mediana_start_time = time.time()\n",
        "# Escribe tu código acá\n",
        "n = len(lista_asi)\n",
        "lista_asi.sort()\n",
        "if n % 2 == 0:\n",
        "    pd_mediana1 = lista_asi[n//2]\n",
        "    pd_mediana2 = lista_asi[n//2 - 1]\n",
        "    pd_mediana = (pd_mediana1 + pd_mediana2)/2\n",
        "else:\n",
        "    pd_mediana = lista_asi[n//2]\n",
        "#######################\n",
        "pd_mediana_end_time = time.time()\n",
        "pd_mediana_elapsed_time = pd_mediana_end_time - pd_mediana_start_time\n",
        "assert pd_mediana == mediana, \"El cálculo de la mediana usando python básico no es correcto\"\n",
        "print(\"El cálculo de la mediana usando python básico es correcto\")"
      ]
    },
    {
      "cell_type": "markdown",
      "metadata": {
        "id": "VIBqRJmAsvp_"
      },
      "source": [
        "### Comparando desempeños de python básico con pandas"
      ]
    },
    {
      "cell_type": "code",
      "execution_count": 21,
      "metadata": {
        "id": "31P4EyLOsvp_",
        "colab": {
          "base_uri": "https://localhost:8080/"
        },
        "outputId": "c2601371-2c15-4fe2-a3ca-68585024c3da"
      },
      "outputs": [
        {
          "output_type": "stream",
          "name": "stdout",
          "text": [
            "Pandas es 6.089935760171306 veces más rápido calculando la media\n"
          ]
        }
      ],
      "source": [
        "media_ratio = media_elapsed_time/pd_media_elapsed_time\n",
        "print(f\"Pandas es {media_ratio} veces más rápido calculando la media\")"
      ]
    },
    {
      "cell_type": "code",
      "execution_count": 22,
      "metadata": {
        "id": "MPofPCJIsvp_",
        "colab": {
          "base_uri": "https://localhost:8080/"
        },
        "outputId": "5c584633-3b7d-47ba-9f9e-219278285f9a"
      },
      "outputs": [
        {
          "output_type": "stream",
          "name": "stdout",
          "text": [
            "Pandas es 0.9899716369529984 veces más rápido calculando la desviación estándar\n"
          ]
        }
      ],
      "source": [
        "std_ratio = std_elapsed_time/pd_std_elapsed_time\n",
        "print(f\"Pandas es {std_ratio} veces más rápido calculando la desviación estándar\")"
      ]
    },
    {
      "cell_type": "code",
      "execution_count": 23,
      "metadata": {
        "id": "Ea4p7Gorsvp_",
        "colab": {
          "base_uri": "https://localhost:8080/"
        },
        "outputId": "5d469fbd-588d-4f8e-cb88-a6385b726154"
      },
      "outputs": [
        {
          "output_type": "execute_result",
          "data": {
            "text/plain": [
              "6.329479768786127"
            ]
          },
          "metadata": {},
          "execution_count": 23
        }
      ],
      "source": [
        "mediana_elapsed_time/pd_mediana_elapsed_time"
      ]
    },
    {
      "cell_type": "code",
      "execution_count": 24,
      "metadata": {
        "id": "flWRWJsqsvqA",
        "colab": {
          "base_uri": "https://localhost:8080/"
        },
        "outputId": "b8891e05-453a-4456-cbce-51c11b585dfc"
      },
      "outputs": [
        {
          "output_type": "stream",
          "name": "stdout",
          "text": [
            "0.003393888473510742\n"
          ]
        }
      ],
      "source": [
        "print(mediana_elapsed_time)"
      ]
    },
    {
      "cell_type": "code",
      "execution_count": 25,
      "metadata": {
        "id": "XvnDcXZasvqA",
        "colab": {
          "base_uri": "https://localhost:8080/"
        },
        "outputId": "c0fefb0f-ced0-448c-eebb-89f7455e9580"
      },
      "outputs": [
        {
          "output_type": "stream",
          "name": "stdout",
          "text": [
            "Pandas es mucho más rápido calculando la mediana\n"
          ]
        }
      ],
      "source": [
        "print(\"Pandas es mucho más rápido calculando la mediana\")"
      ]
    },
    {
      "cell_type": "code",
      "execution_count": null,
      "metadata": {
        "id": "1qOUKab4svqA"
      },
      "outputs": [],
      "source": []
    }
  ],
  "metadata": {
    "colab": {
      "provenance": [],
      "include_colab_link": true
    },
    "kernelspec": {
      "display_name": "Python 3",
      "language": "python",
      "name": "python3"
    },
    "language_info": {
      "codemirror_mode": {
        "name": "ipython",
        "version": 3
      },
      "file_extension": ".py",
      "mimetype": "text/x-python",
      "name": "python",
      "nbconvert_exporter": "python",
      "pygments_lexer": "ipython3",
      "version": "3.9.4"
    }
  },
  "nbformat": 4,
  "nbformat_minor": 0
}